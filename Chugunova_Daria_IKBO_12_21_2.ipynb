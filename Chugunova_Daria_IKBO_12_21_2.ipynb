{
  "cells": [
    {
      "cell_type": "markdown",
      "source": [
        "Ссылка на тетрадь: [2я тетрадь](https://online-edu.mirea.ru/pluginfile.php?file=%2F979325%2Fmod_resource%2Fcontent%2F0%2F%D0%A0%D0%B0%D0%B1%D0%BE%D1%87%D0%B0%D1%8F%20%D1%82%D0%B5%D1%82%D1%80%D0%B0%D0%B4%D1%8C%202.pdf)"
      ],
      "metadata": {
        "id": "dsv-e_D6LuMd"
      },
      "id": "dsv-e_D6LuMd"
    },
    {
      "cell_type": "markdown",
      "id": "2d64f898",
      "metadata": {
        "id": "2d64f898"
      },
      "source": [
        "# 1.3.1 Задание"
      ]
    },
    {
      "cell_type": "markdown",
      "id": "b0cab5d5",
      "metadata": {
        "id": "b0cab5d5"
      },
      "source": [
        "Создать 8x8 матрицу и заполнить её в шахматном порядке нулями и \n",
        "единицами."
      ]
    },
    {
      "cell_type": "code",
      "execution_count": null,
      "id": "e124c613",
      "metadata": {
        "colab": {
          "base_uri": "https://localhost:8080/"
        },
        "id": "e124c613",
        "outputId": "4c406179-d15c-408e-dcd2-674248e091cf"
      },
      "outputs": [
        {
          "output_type": "stream",
          "name": "stdout",
          "text": [
            "[[1 0 1 0 1 0 1 0]\n",
            " [0 1 0 1 0 1 0 1]\n",
            " [1 0 1 0 1 0 1 0]\n",
            " [0 1 0 1 0 1 0 1]\n",
            " [1 0 1 0 1 0 1 0]\n",
            " [0 1 0 1 0 1 0 1]\n",
            " [1 0 1 0 1 0 1 0]\n",
            " [0 1 0 1 0 1 0 1]]\n"
          ]
        }
      ],
      "source": [
        "import numpy as np\n",
        "\n",
        "# Создание матрицы размером 8x8 и заполнение ее нулями\n",
        "matrix = np.zeros((8, 8), dtype=int)\n",
        "\n",
        "# Заполнение матрицы в шахматном порядке нулями и единицами\n",
        "for i in range(8):\n",
        "    for j in range(8):\n",
        "        if (i + j) % 2 == 0:\n",
        "            matrix[i][j] = 1\n",
        "\n",
        "print(matrix)\n"
      ]
    },
    {
      "cell_type": "markdown",
      "id": "d9c650f7",
      "metadata": {
        "id": "d9c650f7"
      },
      "source": [
        "# 1.3.2 Задание"
      ]
    },
    {
      "cell_type": "markdown",
      "id": "af7d683e",
      "metadata": {
        "id": "af7d683e"
      },
      "source": [
        "Создать 5x5 матрицу со значениями в строках от 0 до 4. Для создания \n",
        "необходимо использовать функцию arrange.\n"
      ]
    },
    {
      "cell_type": "code",
      "execution_count": null,
      "id": "b2a596e7",
      "metadata": {
        "id": "b2a596e7",
        "outputId": "c09ab8b2-48c1-432c-c119-0e693b411b38"
      },
      "outputs": [
        {
          "name": "stdout",
          "output_type": "stream",
          "text": [
            "[[ 0  1  2  3  4]\n",
            " [ 5  6  7  8  9]\n",
            " [10 11 12 13 14]\n",
            " [15 16 17 18 19]\n",
            " [20 21 22 23 24]]\n"
          ]
        }
      ],
      "source": [
        "import numpy as np\n",
        "\n",
        "# Создание одномерного массива от 0 до 24\n",
        "arr = np.arange(25)\n",
        "\n",
        "# Преобразование в двумерную матрицу размера 5x5\n",
        "matrix = arr.reshape((5, 5))\n",
        "\n",
        "print(matrix)\n"
      ]
    },
    {
      "cell_type": "markdown",
      "id": "79074f9e",
      "metadata": {
        "id": "79074f9e"
      },
      "source": [
        "# 1.3.3 Задание"
      ]
    },
    {
      "cell_type": "markdown",
      "id": "86583b65",
      "metadata": {
        "id": "86583b65"
      },
      "source": [
        "Задача:\n",
        "Создать массив 3x3x3 со случайными значениями."
      ]
    },
    {
      "cell_type": "markdown",
      "source": [
        "создает трехмерный массив размером 3 на 3 на 3, заполненный случайными числами типа float в диапазоне от 0 до 1 с помощью функции np.random.rand(). "
      ],
      "metadata": {
        "id": "o7pXye5YNeg3"
      },
      "id": "o7pXye5YNeg3"
    },
    {
      "cell_type": "code",
      "execution_count": null,
      "id": "c70129d3",
      "metadata": {
        "id": "c70129d3",
        "outputId": "6905ddcb-24f0-47a1-a77f-fe7a23c3ea3a"
      },
      "outputs": [
        {
          "name": "stdout",
          "output_type": "stream",
          "text": [
            "[[[0.20785879 0.00716696 0.82420874]\n",
            "  [0.64733506 0.15208054 0.12230104]\n",
            "  [0.93328842 0.30611833 0.44201881]]\n",
            "\n",
            " [[0.24069857 0.93307316 0.36845455]\n",
            "  [0.58659909 0.14216503 0.91548078]\n",
            "  [0.36309125 0.72044315 0.84426636]]\n",
            "\n",
            " [[0.38552833 0.87659093 0.061815  ]\n",
            "  [0.80586477 0.69452535 0.74009258]\n",
            "  [0.57715084 0.72636238 0.01765615]]]\n"
          ]
        }
      ],
      "source": [
        "import numpy as np\n",
        "\n",
        "arr = np.random.rand(3, 3, 3)\n",
        "\n",
        "print(arr)\n"
      ]
    },
    {
      "cell_type": "markdown",
      "id": "a4d82854",
      "metadata": {
        "id": "a4d82854"
      },
      "source": [
        "# 1.3.4 Задание"
      ]
    },
    {
      "cell_type": "markdown",
      "id": "8401f352",
      "metadata": {
        "id": "8401f352"
      },
      "source": [
        "Задача:\n",
        "Создать матрицу с 0 внутри, и 1 на границах."
      ]
    },
    {
      "cell_type": "code",
      "execution_count": null,
      "id": "1ac2d65f",
      "metadata": {
        "colab": {
          "base_uri": "https://localhost:8080/"
        },
        "id": "1ac2d65f",
        "outputId": "40c2cc47-6486-4add-ba56-f3b15c9a5c0d"
      },
      "outputs": [
        {
          "output_type": "stream",
          "name": "stdout",
          "text": [
            "[1, 1, 1, 1, 1, 1, 1, 1, 1, 1]\n",
            "[1, 0, 0, 0, 0, 0, 0, 0, 0, 1]\n",
            "[1, 0, 0, 0, 0, 0, 0, 0, 0, 1]\n",
            "[1, 0, 0, 0, 0, 0, 0, 0, 0, 1]\n",
            "[1, 0, 0, 0, 0, 0, 0, 0, 0, 1]\n",
            "[1, 0, 0, 0, 0, 0, 0, 0, 0, 1]\n",
            "[1, 0, 0, 0, 0, 0, 0, 0, 0, 1]\n",
            "[1, 0, 0, 0, 0, 0, 0, 0, 0, 1]\n",
            "[1, 0, 0, 0, 0, 0, 0, 0, 0, 1]\n",
            "[1, 1, 1, 1, 1, 1, 1, 1, 1, 1]\n"
          ]
        }
      ],
      "source": [
        "n = 10  # Задаем размер матрицы\n",
        "matrix = [[0 for j in range(n)] for i in range(n)]  # Создаем матрицу, заполненную нулями\n",
        "\n",
        "# Заполняем границы матрицы единицами\n",
        "for i in range(n):\n",
        "    matrix[i][0] = 1\n",
        "    matrix[i][n-1] = 1\n",
        "    matrix[0][i] = 1\n",
        "    matrix[n-1][i] = 1\n",
        "\n",
        "# Выводим матрицу на экран\n",
        "for row in matrix:\n",
        "    print(row)"
      ]
    },
    {
      "cell_type": "code",
      "source": [
        "n = 10  # Задаем количество строк матрицы\n",
        "m = 5   # Задаем количество столбцов матрицы\n",
        "\n",
        "matrix = [[0 for j in range(m)] for i in range(n)]  # Создаем матрицу, заполненную нулями\n",
        "\n",
        "# Заполняем границы матрицы единицами\n",
        "for i in range(n):\n",
        "    matrix[i][0] = 1\n",
        "    matrix[i][m-1] = 1\n",
        "\n",
        "for j in range(m):\n",
        "    matrix[0][j] = 1\n",
        "    matrix[n-1][j] = 1\n",
        "\n",
        "# Выводим матрицу на экран\n",
        "for row in matrix:\n",
        "    print(row)"
      ],
      "metadata": {
        "colab": {
          "base_uri": "https://localhost:8080/"
        },
        "id": "XDLJ6QUyZnSi",
        "outputId": "a25dc241-c5b1-4937-c578-cd022e3f7ef1"
      },
      "id": "XDLJ6QUyZnSi",
      "execution_count": null,
      "outputs": [
        {
          "output_type": "stream",
          "name": "stdout",
          "text": [
            "[1, 1, 1, 1, 1]\n",
            "[1, 0, 0, 0, 1]\n",
            "[1, 0, 0, 0, 1]\n",
            "[1, 0, 0, 0, 1]\n",
            "[1, 0, 0, 0, 1]\n",
            "[1, 0, 0, 0, 1]\n",
            "[1, 0, 0, 0, 1]\n",
            "[1, 0, 0, 0, 1]\n",
            "[1, 0, 0, 0, 1]\n",
            "[1, 1, 1, 1, 1]\n"
          ]
        }
      ]
    },
    {
      "cell_type": "markdown",
      "id": "2ec06401",
      "metadata": {
        "id": "2ec06401"
      },
      "source": [
        "# 1.3.5 Задание"
      ]
    },
    {
      "cell_type": "markdown",
      "id": "c28f8558",
      "metadata": {
        "id": "c28f8558"
      },
      "source": [
        "Задача:\n",
        "Создайте массив и отсортируйте его по убыванию."
      ]
    },
    {
      "cell_type": "code",
      "source": [
        "import random\n",
        "\n",
        "# Создаем массив из 10 случайных чисел от 1 до 100\n",
        "arr = [random.randint(1, 100) for i in range(5)] #Создание массива arr из 10 случайных чисел от 1 до 100 с помощью генератора списков.\n",
        "print(\"Исходный массив:\", arr)\n",
        "\n",
        "# Сортируем массив по убыванию\n",
        "arr.sort(reverse=True) #Сортировка массива arr по убыванию при помощи метода sort() и передачи параметра reverse=True.\n",
        "#Если параметр reverse равен True, то сортировка производится в порядке убывания.\n",
        "print(\"Отсортированный массив:\", arr)"
      ],
      "metadata": {
        "colab": {
          "base_uri": "https://localhost:8080/"
        },
        "id": "zftmEGLcaKjL",
        "outputId": "51d5c894-5ffa-4aa6-8642-5be6a9274d06"
      },
      "id": "zftmEGLcaKjL",
      "execution_count": null,
      "outputs": [
        {
          "output_type": "stream",
          "name": "stdout",
          "text": [
            "Исходный массив: [32, 10, 36, 50, 45]\n",
            "Отсортированный массив: [50, 45, 36, 32, 10]\n"
          ]
        }
      ]
    },
    {
      "cell_type": "markdown",
      "id": "d68bbdd6",
      "metadata": {
        "id": "d68bbdd6"
      },
      "source": [
        "# 1.3.6 Задание"
      ]
    },
    {
      "cell_type": "markdown",
      "id": "6431a209",
      "metadata": {
        "id": "6431a209"
      },
      "source": [
        "Задача:\n",
        "Создайте матрицу, выведите ее форму, размер и размерность"
      ]
    },
    {
      "cell_type": "code",
      "source": [
        "import numpy as np\n",
        "\n",
        "# Создаем матрицу размером 3x4\n",
        "matrix = np.array([[1, 2, 3, 4], [5, 6, 7, 8], [9, 10, 11, 12]])\n",
        "\n",
        "# Выводим форму матрицы\n",
        "print(\"Форма матрицы:\", matrix.shape)\n",
        "\n",
        "# Выводим размер матрицы\n",
        "print(\"Размер матрицы:\", matrix.size)\n",
        "\n",
        "# Выводим размерность матрицы\n",
        "print(\"Размерность матрицы:\", matrix.ndim)"
      ],
      "metadata": {
        "colab": {
          "base_uri": "https://localhost:8080/"
        },
        "id": "xe9wnpbacQpd",
        "outputId": "6145a0fe-cae7-4d3a-808f-a148ad63d0e5"
      },
      "id": "xe9wnpbacQpd",
      "execution_count": null,
      "outputs": [
        {
          "output_type": "stream",
          "name": "stdout",
          "text": [
            "Форма матрицы: (3, 4)\n",
            "Размер матрицы: 12\n",
            "Размерность матрицы: 2\n"
          ]
        }
      ]
    },
    {
      "cell_type": "markdown",
      "id": "b5a2cee1",
      "metadata": {
        "id": "b5a2cee1"
      },
      "source": [
        "# 2.3.2 Задание"
      ]
    },
    {
      "cell_type": "markdown",
      "id": "240796da",
      "metadata": {
        "id": "240796da"
      },
      "source": [
        "Найдите в Интернете ссылку на любой csv файл и сформируйте из него \n",
        "фрейм данных (например, коллекцию фреймов данных можно найти \n",
        "здесь: https://github.com/akmand/datasets)."
      ]
    },
    {
      "cell_type": "code",
      "source": [
        "import pandas as pd\n",
        "\n",
        "url = 'https://web.stanford.edu/class/archive/cs/cs109/cs109.1166/stuff/titanic.csv'\n",
        "df = pd.read_csv(url)\n",
        "\n",
        "# загрузка данных из csv файла\n",
        "# вывод первых пяти строк\n",
        "print(df.head())\n",
        "\n",
        "# вывод размерности фрейма данных\n",
        "print(df.shape)\n",
        "\n",
        "# вывод названий столбцов\n",
        "print(df.columns)"
      ],
      "metadata": {
        "colab": {
          "base_uri": "https://localhost:8080/"
        },
        "id": "3Eu7j_Ccd1Dk",
        "outputId": "c806e76e-dd54-4964-9a15-a880cb919219"
      },
      "id": "3Eu7j_Ccd1Dk",
      "execution_count": null,
      "outputs": [
        {
          "output_type": "stream",
          "name": "stdout",
          "text": [
            "   Survived  Pclass                                               Name  \\\n",
            "0         0       3                             Mr. Owen Harris Braund   \n",
            "1         1       1  Mrs. John Bradley (Florence Briggs Thayer) Cum...   \n",
            "2         1       3                              Miss. Laina Heikkinen   \n",
            "3         1       1        Mrs. Jacques Heath (Lily May Peel) Futrelle   \n",
            "4         0       3                            Mr. William Henry Allen   \n",
            "\n",
            "      Sex   Age  Siblings/Spouses Aboard  Parents/Children Aboard     Fare  \n",
            "0    male  22.0                        1                        0   7.2500  \n",
            "1  female  38.0                        1                        0  71.2833  \n",
            "2  female  26.0                        0                        0   7.9250  \n",
            "3  female  35.0                        1                        0  53.1000  \n",
            "4    male  35.0                        0                        0   8.0500  \n",
            "(887, 8)\n",
            "Index(['Survived', 'Pclass', 'Name', 'Sex', 'Age', 'Siblings/Spouses Aboard',\n",
            "       'Parents/Children Aboard', 'Fare'],\n",
            "      dtype='object')\n"
          ]
        }
      ]
    },
    {
      "cell_type": "markdown",
      "id": "75f97b1c",
      "metadata": {
        "id": "75f97b1c"
      },
      "source": [
        "# 2.3.3 Задание"
      ]
    },
    {
      "cell_type": "markdown",
      "id": "9486da4a",
      "metadata": {
        "id": "9486da4a"
      },
      "source": [
        "Проделайте с получившемся из предыдущего задания фреймом данных \n",
        "те же действия, что и в примерах 2.2.5-2.2.7"
      ]
    },
    {
      "cell_type": "markdown",
      "source": [
        "Краткая выжить теории, которая пригодится для нашего случая"
      ],
      "metadata": {
        "id": "D3WSVYQU3bsL"
      },
      "id": "D3WSVYQU3bsL"
    },
    {
      "cell_type": "markdown",
      "source": [
        "## Из примера 2.2.5"
      ],
      "metadata": {
        "id": "yujUmXOm1x5j"
      },
      "id": "yujUmXOm1x5j"
    },
    {
      "cell_type": "markdown",
      "source": [
        "Одна из самых простых вещей, которые мы можем сделать после загрузки данных, – это взглянуть на первые несколько строк с помощью метода ***head***.\n",
        "\n",
        "На последние строки можно посмотреть с помощью функции ***tail***.\n",
        "\n",
        "Также можем взглянуть на количество строк и столбцов: ***dataframe.shape***. Кроме того, используя метод describe, мы можем получить описательную статистику для любых числовых столбцов."
      ],
      "metadata": {
        "id": "kx1Kl6fB1vE3"
      },
      "id": "kx1Kl6fB1vE3"
    },
    {
      "cell_type": "code",
      "source": [
        "import pandas as pd\n",
        "#Данные титаника\n",
        "url = 'https://web.stanford.edu/class/archive/cs/cs109/cs109.1166/stuff/titanic.csv'\n",
        "df = pd.read_csv(url)"
      ],
      "metadata": {
        "id": "MFuLJkkN2umv"
      },
      "id": "MFuLJkkN2umv",
      "execution_count": null,
      "outputs": []
    },
    {
      "cell_type": "markdown",
      "source": [
        "можем использовать методы head(), tail(), shape и describe() для анализа данных"
      ],
      "metadata": {
        "id": "inFmgXJw3Xpk"
      },
      "id": "inFmgXJw3Xpk"
    },
    {
      "cell_type": "code",
      "source": [
        "# Первые 5 строк\n",
        "print(df.head())\n",
        "\n",
        "# Последние 5 строк\n",
        "print(df.tail())\n",
        "\n",
        "# Количество строк и столбцов\n",
        "print(df.shape)\n",
        "\n",
        "# Описательная статистика для числовых столбцов\n",
        "print(df.describe())"
      ],
      "metadata": {
        "colab": {
          "base_uri": "https://localhost:8080/"
        },
        "id": "ncqa7cJO28LM",
        "outputId": "b67ead95-a53d-48ff-933f-56a09b2d6579"
      },
      "id": "ncqa7cJO28LM",
      "execution_count": null,
      "outputs": [
        {
          "output_type": "stream",
          "name": "stdout",
          "text": [
            "   Survived  Pclass                                               Name  \\\n",
            "0         0       3                             Mr. Owen Harris Braund   \n",
            "1         1       1  Mrs. John Bradley (Florence Briggs Thayer) Cum...   \n",
            "2         1       3                              Miss. Laina Heikkinen   \n",
            "3         1       1        Mrs. Jacques Heath (Lily May Peel) Futrelle   \n",
            "4         0       3                            Mr. William Henry Allen   \n",
            "\n",
            "      Sex   Age  Siblings/Spouses Aboard  Parents/Children Aboard     Fare  \n",
            "0    male  22.0                        1                        0   7.2500  \n",
            "1  female  38.0                        1                        0  71.2833  \n",
            "2  female  26.0                        0                        0   7.9250  \n",
            "3  female  35.0                        1                        0  53.1000  \n",
            "4    male  35.0                        0                        0   8.0500  \n",
            "     Survived  Pclass                            Name     Sex   Age  \\\n",
            "882         0       2            Rev. Juozas Montvila    male  27.0   \n",
            "883         1       1     Miss. Margaret Edith Graham  female  19.0   \n",
            "884         0       3  Miss. Catherine Helen Johnston  female   7.0   \n",
            "885         1       1            Mr. Karl Howell Behr    male  26.0   \n",
            "886         0       3              Mr. Patrick Dooley    male  32.0   \n",
            "\n",
            "     Siblings/Spouses Aboard  Parents/Children Aboard   Fare  \n",
            "882                        0                        0  13.00  \n",
            "883                        0                        0  30.00  \n",
            "884                        1                        2  23.45  \n",
            "885                        0                        0  30.00  \n",
            "886                        0                        0   7.75  \n",
            "(887, 8)\n",
            "         Survived      Pclass         Age  Siblings/Spouses Aboard  \\\n",
            "count  887.000000  887.000000  887.000000               887.000000   \n",
            "mean     0.385569    2.305524   29.471443                 0.525366   \n",
            "std      0.487004    0.836662   14.121908                 1.104669   \n",
            "min      0.000000    1.000000    0.420000                 0.000000   \n",
            "25%      0.000000    2.000000   20.250000                 0.000000   \n",
            "50%      0.000000    3.000000   28.000000                 0.000000   \n",
            "75%      1.000000    3.000000   38.000000                 1.000000   \n",
            "max      1.000000    3.000000   80.000000                 8.000000   \n",
            "\n",
            "       Parents/Children Aboard       Fare  \n",
            "count               887.000000  887.00000  \n",
            "mean                  0.383315   32.30542  \n",
            "std                   0.807466   49.78204  \n",
            "min                   0.000000    0.00000  \n",
            "25%                   0.000000    7.92500  \n",
            "50%                   0.000000   14.45420  \n",
            "75%                   0.000000   31.13750  \n",
            "max                   6.000000  512.32920  \n"
          ]
        }
      ]
    },
    {
      "cell_type": "markdown",
      "source": [
        "## Из примера 2.2.6"
      ],
      "metadata": {
        "id": "A5R_As974CBn"
      },
      "id": "A5R_As974CBn"
    },
    {
      "cell_type": "markdown",
      "source": [
        "Выберите индивидуальные данные или срезы фрейма данных"
      ],
      "metadata": {
        "id": "ARMzCWAf4OOY"
      },
      "id": "ARMzCWAf4OOY"
    },
    {
      "cell_type": "markdown",
      "source": [
        "Для выбора одной или нескольких строк, либо значений, можно \n",
        "использовать методы ***1ос*** или ***iloc***"
      ],
      "metadata": {
        "id": "sws-qzKGGuWg"
      },
      "id": "sws-qzKGGuWg"
    },
    {
      "cell_type": "code",
      "source": [
        "import pandas as pd\n",
        "\n",
        "url = 'https://raw.githubusercontent.com/datasciencedojo/datasets/master/titanic.csv'\n",
        "df = pd.read_csv(url)\n"
      ],
      "metadata": {
        "id": "oXOY25OVHuqM"
      },
      "id": "oXOY25OVHuqM",
      "execution_count": null,
      "outputs": []
    },
    {
      "cell_type": "markdown",
      "source": [
        "Выбрать только пассажиров женского пола, которые ехали первым классом и имели братьев или сестер"
      ],
      "metadata": {
        "id": "eDT2j3PpIZ7i"
      },
      "id": "eDT2j3PpIZ7i"
    },
    {
      "cell_type": "code",
      "source": [
        "# Выбор данных по условию\n",
        "selected_data = df.loc[(df.Sex == 'female') & (df.Pclass == 1) & (df.SibSp > 0)]\n",
        "\n",
        "# Вывод результатов на экран\n",
        "print(selected_data)\n"
      ],
      "metadata": {
        "colab": {
          "base_uri": "https://localhost:8080/"
        },
        "id": "-hEdh8hnHv55",
        "outputId": "2e609613-4a03-403f-eab4-26756a12ae6e"
      },
      "id": "-hEdh8hnHv55",
      "execution_count": null,
      "outputs": [
        {
          "output_type": "stream",
          "name": "stdout",
          "text": [
            "     PassengerId  Survived  Pclass  \\\n",
            "1              2         1       1   \n",
            "3              4         1       1   \n",
            "31            32         1       1   \n",
            "52            53         1       1   \n",
            "88            89         1       1   \n",
            "151          152         1       1   \n",
            "215          216         1       1   \n",
            "230          231         1       1   \n",
            "275          276         1       1   \n",
            "291          292         1       1   \n",
            "297          298         0       1   \n",
            "307          308         1       1   \n",
            "311          312         1       1   \n",
            "319          320         1       1   \n",
            "334          335         1       1   \n",
            "341          342         1       1   \n",
            "366          367         1       1   \n",
            "375          376         1       1   \n",
            "383          384         1       1   \n",
            "393          394         1       1   \n",
            "412          413         1       1   \n",
            "435          436         1       1   \n",
            "457          458         1       1   \n",
            "486          487         1       1   \n",
            "496          497         1       1   \n",
            "498          499         0       1   \n",
            "513          514         1       1   \n",
            "556          557         1       1   \n",
            "558          559         1       1   \n",
            "571          572         1       1   \n",
            "577          578         1       1   \n",
            "581          582         1       1   \n",
            "591          592         1       1   \n",
            "669          670         1       1   \n",
            "700          701         1       1   \n",
            "742          743         1       1   \n",
            "763          764         1       1   \n",
            "765          766         1       1   \n",
            "781          782         1       1   \n",
            "809          810         1       1   \n",
            "820          821         1       1   \n",
            "835          836         1       1   \n",
            "849          850         1       1   \n",
            "856          857         1       1   \n",
            "871          872         1       1   \n",
            "\n",
            "                                                  Name     Sex   Age  SibSp  \\\n",
            "1    Cumings, Mrs. John Bradley (Florence Briggs Th...  female  38.0      1   \n",
            "3         Futrelle, Mrs. Jacques Heath (Lily May Peel)  female  35.0      1   \n",
            "31      Spencer, Mrs. William Augustus (Marie Eugenie)  female   NaN      1   \n",
            "52            Harper, Mrs. Henry Sleeper (Myna Haxtun)  female  49.0      1   \n",
            "88                          Fortune, Miss. Mabel Helen  female  23.0      3   \n",
            "151                  Pears, Mrs. Thomas (Edith Wearne)  female  22.0      1   \n",
            "215                            Newell, Miss. Madeleine  female  31.0      1   \n",
            "230       Harris, Mrs. Henry Birkhardt (Irene Wallach)  female  35.0      1   \n",
            "275                  Andrews, Miss. Kornelia Theodosia  female  63.0      1   \n",
            "291            Bishop, Mrs. Dickinson H (Helen Walton)  female  19.0      1   \n",
            "297                       Allison, Miss. Helen Loraine  female   2.0      1   \n",
            "307  Penasco y Castellana, Mrs. Victor de Satode (M...  female  17.0      1   \n",
            "311                         Ryerson, Miss. Emily Borie  female  18.0      2   \n",
            "319  Spedden, Mrs. Frederic Oakley (Margaretta Corn...  female  40.0      1   \n",
            "334  Frauenthal, Mrs. Henry William (Clara Heinshei...  female   NaN      1   \n",
            "341                     Fortune, Miss. Alice Elizabeth  female  24.0      3   \n",
            "366   Warren, Mrs. Frank Manley (Anna Sophia Atkinson)  female  60.0      1   \n",
            "375              Meyer, Mrs. Edgar Joseph (Leila Saks)  female   NaN      1   \n",
            "383  Holverson, Mrs. Alexander Oskar (Mary Aline To...  female  35.0      1   \n",
            "393                             Newell, Miss. Marjorie  female  23.0      1   \n",
            "412                             Minahan, Miss. Daisy E  female  33.0      1   \n",
            "435                          Carter, Miss. Lucile Polk  female  14.0      1   \n",
            "457                  Kenyon, Mrs. Frederick R (Marion)  female   NaN      1   \n",
            "486    Hoyt, Mrs. Frederick Maxfield (Jane Anne Forby)  female  35.0      1   \n",
            "496                     Eustis, Miss. Elizabeth Mussey  female  54.0      1   \n",
            "498    Allison, Mrs. Hudson J C (Bessie Waldo Daniels)  female  25.0      1   \n",
            "513     Rothschild, Mrs. Martin (Elizabeth L. Barrett)  female  54.0      1   \n",
            "556  Duff Gordon, Lady. (Lucille Christiana Sutherl...  female  48.0      1   \n",
            "558             Taussig, Mrs. Emil (Tillie Mandelbaum)  female  39.0      1   \n",
            "571      Appleton, Mrs. Edward Dale (Charlotte Lamson)  female  53.0      2   \n",
            "577          Silvey, Mrs. William Baird (Alice Munger)  female  39.0      1   \n",
            "581  Thayer, Mrs. John Borland (Marian Longstreth M...  female  39.0      1   \n",
            "591    Stephenson, Mrs. Walter Bertram (Martha Eustis)  female  52.0      1   \n",
            "669  Taylor, Mrs. Elmer Zebley (Juliet Cummins Wright)  female   NaN      1   \n",
            "700  Astor, Mrs. John Jacob (Madeleine Talmadge Force)  female  18.0      1   \n",
            "742              Ryerson, Miss. Susan Parker \"Suzette\"  female  21.0      2   \n",
            "763          Carter, Mrs. William Ernest (Lucile Polk)  female  36.0      1   \n",
            "765               Hogeboom, Mrs. John C (Anna Andrews)  female  51.0      1   \n",
            "781          Dick, Mrs. Albert Adrian (Vera Gillespie)  female  17.0      1   \n",
            "809     Chambers, Mrs. Norman Campbell (Bertha Griggs)  female  33.0      1   \n",
            "820  Hays, Mrs. Charles Melville (Clara Jennings Gr...  female  52.0      1   \n",
            "835                        Compton, Miss. Sara Rebecca  female  39.0      1   \n",
            "849       Goldenberg, Mrs. Samuel L (Edwiga Grabowska)  female   NaN      1   \n",
            "856         Wick, Mrs. George Dennick (Mary Hitchcock)  female  45.0      1   \n",
            "871   Beckwith, Mrs. Richard Leonard (Sallie Monypeny)  female  47.0      1   \n",
            "\n",
            "     Parch    Ticket      Fare            Cabin Embarked  \n",
            "1        0  PC 17599   71.2833              C85        C  \n",
            "3        0    113803   53.1000             C123        S  \n",
            "31       0  PC 17569  146.5208              B78        C  \n",
            "52       0  PC 17572   76.7292              D33        C  \n",
            "88       2     19950  263.0000      C23 C25 C27        S  \n",
            "151      0    113776   66.6000               C2        S  \n",
            "215      0     35273  113.2750              D36        C  \n",
            "230      0     36973   83.4750              C83        S  \n",
            "275      0     13502   77.9583               D7        S  \n",
            "291      0     11967   91.0792              B49        C  \n",
            "297      2    113781  151.5500          C22 C26        S  \n",
            "307      0  PC 17758  108.9000              C65        C  \n",
            "311      2  PC 17608  262.3750  B57 B59 B63 B66        C  \n",
            "319      1     16966  134.5000              E34        C  \n",
            "334      0  PC 17611  133.6500              NaN        S  \n",
            "341      2     19950  263.0000      C23 C25 C27        S  \n",
            "366      0    110813   75.2500              D37        C  \n",
            "375      0  PC 17604   82.1708              NaN        C  \n",
            "383      0    113789   52.0000              NaN        S  \n",
            "393      0     35273  113.2750              D36        C  \n",
            "412      0     19928   90.0000              C78        Q  \n",
            "435      2    113760  120.0000          B96 B98        S  \n",
            "457      0     17464   51.8625              D21        S  \n",
            "486      0     19943   90.0000              C93        S  \n",
            "496      0     36947   78.2667              D20        C  \n",
            "498      2    113781  151.5500          C22 C26        S  \n",
            "513      0  PC 17603   59.4000              NaN        C  \n",
            "556      0     11755   39.6000              A16        C  \n",
            "558      1    110413   79.6500              E67        S  \n",
            "571      0     11769   51.4792             C101        S  \n",
            "577      0     13507   55.9000              E44        S  \n",
            "581      1     17421  110.8833              C68        C  \n",
            "591      0     36947   78.2667              D20        C  \n",
            "669      0     19996   52.0000             C126        S  \n",
            "700      0  PC 17757  227.5250          C62 C64        C  \n",
            "742      2  PC 17608  262.3750  B57 B59 B63 B66        C  \n",
            "763      2    113760  120.0000          B96 B98        S  \n",
            "765      0     13502   77.9583              D11        S  \n",
            "781      0     17474   57.0000              B20        S  \n",
            "809      0    113806   53.1000               E8        S  \n",
            "820      1     12749   93.5000              B69        S  \n",
            "835      1  PC 17756   83.1583              E49        C  \n",
            "849      0     17453   89.1042              C92        C  \n",
            "856      1     36928  164.8667              NaN        S  \n",
            "871      1     11751   52.5542              D35        S  \n"
          ]
        }
      ]
    },
    {
      "cell_type": "markdown",
      "source": [
        "Необходимо сформировать ***новый фрейм*** данных из пассажиров женского пола, которые были в первом классе и имели брата или сестру."
      ],
      "metadata": {
        "id": "RUC5ytJ1Jf5R"
      },
      "id": "RUC5ytJ1Jf5R"
    },
    {
      "cell_type": "code",
      "source": [
        "import pandas as pd\n",
        "\n",
        "url = 'https://raw.githubusercontent.com/datasciencedojo/datasets/master/titanic.csv'\n",
        "df = pd.read_csv(url)\n",
        "# Выбор данных по условию\n",
        "new_df = df.loc[(df['Sex'] == 'female') & (df['Pclass'] == 1) & (df['SibSp'] > 0)]\n",
        "\n",
        "\n",
        "# Вывод результатов на экран\n",
        "#print(new_df) # вывод всех дынных, соответствующих условию\n",
        "print(new_df.head()) #новый фрейм\n",
        "\n"
      ],
      "metadata": {
        "colab": {
          "base_uri": "https://localhost:8080/"
        },
        "id": "8dpw61IgJoz9",
        "outputId": "850028c5-c1b8-40bf-a332-1a3d34eb8aeb"
      },
      "id": "8dpw61IgJoz9",
      "execution_count": null,
      "outputs": [
        {
          "output_type": "stream",
          "name": "stdout",
          "text": [
            "    PassengerId  Survived  Pclass  \\\n",
            "1             2         1       1   \n",
            "3             4         1       1   \n",
            "31           32         1       1   \n",
            "52           53         1       1   \n",
            "88           89         1       1   \n",
            "\n",
            "                                                 Name     Sex   Age  SibSp  \\\n",
            "1   Cumings, Mrs. John Bradley (Florence Briggs Th...  female  38.0      1   \n",
            "3        Futrelle, Mrs. Jacques Heath (Lily May Peel)  female  35.0      1   \n",
            "31     Spencer, Mrs. William Augustus (Marie Eugenie)  female   NaN      1   \n",
            "52           Harper, Mrs. Henry Sleeper (Myna Haxtun)  female  49.0      1   \n",
            "88                         Fortune, Miss. Mabel Helen  female  23.0      3   \n",
            "\n",
            "    Parch    Ticket      Fare        Cabin Embarked  \n",
            "1       0  PC 17599   71.2833          C85        C  \n",
            "3       0    113803   53.1000         C123        S  \n",
            "31      0  PC 17569  146.5208          B78        C  \n",
            "52      0  PC 17572   76.7292          D33        C  \n",
            "88      2     19950  263.0000  C23 C25 C27        S  \n"
          ]
        }
      ]
    },
    {
      "cell_type": "markdown",
      "id": "229d1696",
      "metadata": {
        "id": "229d1696"
      },
      "source": [
        "# 3.3.2 Задание"
      ]
    },
    {
      "cell_type": "markdown",
      "id": "05c0eb21",
      "metadata": {
        "id": "05c0eb21"
      },
      "source": [
        "Загрузить фрейм данных по ссылке:\n",
        "https://raw.githubusercontent.com/akmand/datasets/master/iris.csv.\n",
        "Необходимо выполнить нормализацию первого числового признака \n",
        "(sepal_length_cm) с использованием минимаксного преобразования, а \n",
        "второго (sepal_width_cm) с задействованием z-масштабирования."
      ]
    },
    {
      "cell_type": "markdown",
      "source": [
        "![Снимок экрана_20230302_115200.png](data:image/png;base64,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)"
      ],
      "metadata": {
        "id": "SriUoLq6hYwN"
      },
      "id": "SriUoLq6hYwN"
    },
    {
      "cell_type": "markdown",
      "source": [
        "***Z-масштабирование*** (или стандартизация) — это метод преобразования числовых данных, при котором среднее значение признака приводится к 0, а стандартное отклонение — к 1. Для каждого значения признака вычисляется среднее значение (μ) и стандартное отклонение (σ)."
      ],
      "metadata": {
        "id": "Igie5XyEhmmm"
      },
      "id": "Igie5XyEhmmm"
    },
    {
      "cell_type": "markdown",
      "source": [
        "***Нормализация по методу минимакс*** (или мин-макс нормализация) - это метод масштабирования данных, при котором все значения признака масштабируются линейно в диапазоне от 0 до 1. Это достигается путем вычитания минимального значения признака и деления на разницу между максимальным и минимальным значениями:"
      ],
      "metadata": {
        "id": "l9RslngGiCh7"
      },
      "id": "l9RslngGiCh7"
    },
    {
      "cell_type": "markdown",
      "source": [
        "Загрузим фрейм данных из указанной ссылки:"
      ],
      "metadata": {
        "id": "VufseZUghCmJ"
      },
      "id": "VufseZUghCmJ"
    },
    {
      "cell_type": "code",
      "source": [
        "import pandas as pd\n",
        "\n",
        "url = 'https://raw.githubusercontent.com/akmand/datasets/master/iris.csv'\n",
        "df = pd.read_csv(url)"
      ],
      "metadata": {
        "id": "NW_mCkEKgjnL"
      },
      "id": "NW_mCkEKgjnL",
      "execution_count": null,
      "outputs": []
    },
    {
      "cell_type": "markdown",
      "source": [
        "Выделим первый числовой признак (sepal_length_cm) и выполним нормализацию с использованием минимаксного преобразования:"
      ],
      "metadata": {
        "id": "CVq414vFhDtF"
      },
      "id": "CVq414vFhDtF"
    },
    {
      "cell_type": "code",
      "source": [
        "from sklearn.preprocessing import MinMaxScaler\n",
        "\n",
        "scaler = MinMaxScaler()\n",
        "df['sepal_length_cm'] = scaler.fit_transform(df[['sepal_length_cm']])"
      ],
      "metadata": {
        "id": "cIzkZKx5gmCD"
      },
      "id": "cIzkZKx5gmCD",
      "execution_count": null,
      "outputs": []
    },
    {
      "cell_type": "markdown",
      "source": [
        "Выделим второй числовой признак (sepal_width_cm) и выполним z-масштабирование:"
      ],
      "metadata": {
        "id": "i0l_HiVlhGtu"
      },
      "id": "i0l_HiVlhGtu"
    },
    {
      "cell_type": "code",
      "source": [
        "from sklearn.preprocessing import StandardScaler\n",
        "\n",
        "scaler = StandardScaler()\n",
        "df['sepal_width_cm'] = scaler.fit_transform(df[['sepal_width_cm']])"
      ],
      "metadata": {
        "id": "uPQqVwMIgoAZ"
      },
      "id": "uPQqVwMIgoAZ",
      "execution_count": null,
      "outputs": []
    },
    {
      "cell_type": "code",
      "source": [
        "print(df.head())"
      ],
      "metadata": {
        "colab": {
          "base_uri": "https://localhost:8080/"
        },
        "id": "Z6A-NR8Vgp4c",
        "outputId": "80ac96b5-2427-4d7a-fcce-805d53712776"
      },
      "id": "Z6A-NR8Vgp4c",
      "execution_count": null,
      "outputs": [
        {
          "output_type": "stream",
          "name": "stdout",
          "text": [
            "   sepal_length_cm  sepal_width_cm  petal_length_cm  petal_width_cm species\n",
            "0         0.222222        1.032057              1.4             0.2  setosa\n",
            "1         0.166667       -0.124958              1.4             0.2  setosa\n",
            "2         0.111111        0.337848              1.3             0.2  setosa\n",
            "3         0.083333        0.106445              1.5             0.2  setosa\n",
            "4         0.194444        1.263460              1.4             0.2  setosa\n"
          ]
        }
      ]
    }
  ],
  "metadata": {
    "kernelspec": {
      "display_name": "Python 3 (ipykernel)",
      "language": "python",
      "name": "python3"
    },
    "language_info": {
      "codemirror_mode": {
        "name": "ipython",
        "version": 3
      },
      "file_extension": ".py",
      "mimetype": "text/x-python",
      "name": "python",
      "nbconvert_exporter": "python",
      "pygments_lexer": "ipython3",
      "version": "3.9.13"
    },
    "colab": {
      "provenance": [],
      "name": "Chugunova Daria_IKBO-12-21_2.ipynb"
    }
  },
  "nbformat": 4,
  "nbformat_minor": 5
}