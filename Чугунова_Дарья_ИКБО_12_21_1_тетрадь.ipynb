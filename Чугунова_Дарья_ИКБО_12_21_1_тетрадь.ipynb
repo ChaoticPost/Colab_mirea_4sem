{
  "cells": [
    {
      "cell_type": "markdown",
      "id": "2c7bac3c",
      "metadata": {
        "id": "2c7bac3c"
      },
      "source": [
        "# Задание 1.3\n",
        "### Выведите на печать и определите тип переменной"
      ]
    },
    {
      "cell_type": "code",
      "execution_count": null,
      "id": "00381982",
      "metadata": {
        "scrolled": true,
        "colab": {
          "base_uri": "https://localhost:8080/"
        },
        "id": "00381982",
        "outputId": "dda23876-b12d-4fcb-e07b-856b5db3b6fd"
      },
      "outputs": [
        {
          "output_type": "stream",
          "name": "stdout",
          "text": [
            "True | <class 'bool'>\n",
            "{8, 1, 3, 7} | <class 'set'>\n",
            "{2, 4, 5, 10, 'арр1е'} | <class 'set'>\n",
            "set() | <class 'set'>\n",
            "('Антонова Антонина', 34, 'ж') | <class 'tuple'>\n",
            "type | <class 'str'>\n",
            "[1, 'title', 2, 'content'] | <class 'list'>\n"
          ]
        }
      ],
      "source": [
        "#Переменная x будет иметь значение типа булева (boolean), так как выражение \"5 >= 2\" является логическим выражением\n",
        "x = 5 >= 2\n",
        "print(x,'|', type(x))\n",
        "#Переменная \"А\" является переменной типа множество (set), содержащей целочисленные элементы.\n",
        "A = { 1, 3, 7, 8}\n",
        "print(A,'|', type(A))\n",
        "#Переменная \"В\" является переменной типа множество (set), содержащей элементы различных типов, включая строку.\n",
        "B = {2, 4, 5, 10, 'арр1е'}\n",
        "print(B,'|', type(B))\n",
        "#Переменная \"С\" является переменной типа множество (set), содержащей пересечение множеств \"А\" и \"В\".\n",
        "C = A&B\n",
        "print(C,'|', type(C))\n",
        "#Переменная \"df\" является переменной типа кортеж (tuple), содержащей строки, целое число и символы.\n",
        "df = 'Антонова Антонина', 34, 'ж'\n",
        "print(df,'|', type(df))\n",
        "#Переменная \"z\" является переменной типа строка (string).\n",
        "z = 'type'\n",
        "print(z,'|', type(z))\n",
        "#Переменная \"B\" является переменной типа список (list), содержащий элементы различных типов, включая целые числа и строки.\n",
        "B = [1, 'title', 2, 'content']\n",
        "print(B,'|', type(B))\n"
      ]
    },
    {
      "cell_type": "markdown",
      "id": "1cc9bcde",
      "metadata": {
        "id": "1cc9bcde"
      },
      "source": [
        "# Задание 2.3"
      ]
    },
    {
      "cell_type": "raw",
      "id": "1666c963",
      "metadata": {
        "id": "1666c963"
      },
      "source": [
        "Задается х, напечатать какому из интервалов принадлежит: (-infinity, -5), [-5,\n",
        "5] или от (5, +infinity)\n"
      ]
    },
    {
      "cell_type": "markdown",
      "id": "3e10d540",
      "metadata": {
        "id": "3e10d540"
      },
      "source": [
        "В этом примере сначала задается значение переменной x, затем в конструкции if-elif-else проверяется, в какой из трех интервалов попадает значение x, и выводится соответствующее сообщение. Если значение x меньше -5, оно попадает в интервал (-infinity, -5), если оно находится между -5 и 5 (включительно), то это интервал [-5, 5], а если значение x больше 5, оно попадает в интервал (5, +infinity)."
      ]
    },
    {
      "cell_type": "code",
      "execution_count": null,
      "id": "928e7297",
      "metadata": {
        "colab": {
          "base_uri": "https://localhost:8080/"
        },
        "id": "928e7297",
        "outputId": "d9dd46b0-ca70-49fe-963f-6538a990c16f"
      },
      "outputs": [
        {
          "output_type": "stream",
          "name": "stdout",
          "text": [
            "x находится в интервале [-5, 5]\n"
          ]
        }
      ],
      "source": [
        "x = 3.5   # задаем значение переменной x\n",
        "\n",
        "if x < -5:   # если x меньше -5\n",
        "    print(\"x находится в интервале (-inf, -5)\")   # выводим сообщение об этом интервале\n",
        "elif x <= 5:   # если x меньше или равно 5 (но уже больше -5)\n",
        "    print(\"x находится в интервале [-5, 5]\")   # выводим сообщение об этом интервале\n",
        "else:   # во всех остальных случаях (если x больше 5)\n",
        "    print(\"x находится в интервале (5, +inf)\")   # выводим сообщение об этом интервале\n"
      ]
    },
    {
      "cell_type": "markdown",
      "id": "e45f0c21",
      "metadata": {
        "id": "e45f0c21"
      },
      "source": [
        "# Задание 3.3.1 "
      ]
    },
    {
      "cell_type": "markdown",
      "id": "98bfd8d4",
      "metadata": {
        "id": "98bfd8d4"
      },
      "source": [
        "Выведите числа из примера на while (3.2.1) в обратном порядке."
      ]
    },
    {
      "cell_type": "markdown",
      "id": "cd74ff19",
      "metadata": {
        "id": "cd74ff19"
      },
      "source": [
        "В этом примере сначала задается начальное значение переменной i равное 3, затем с помощью цикла while выводятся значения i от 3 до 1 в обратном порядке. В каждой итерации цикла сначала выводится значение i, а затем значение i уменьшается на 1 с помощью операции -=. Когда i становится равным 0, условие цикла перестает выполняться и программа завершается."
      ]
    },
    {
      "cell_type": "code",
      "execution_count": null,
      "id": "aa15d5a5",
      "metadata": {
        "scrolled": true,
        "id": "aa15d5a5",
        "outputId": "c8c93827-a8fa-4371-f564-10a068927e78"
      },
      "outputs": [
        {
          "name": "stdout",
          "output_type": "stream",
          "text": [
            "3\n",
            "2\n",
            "1\n"
          ]
        }
      ],
      "source": [
        "i = 3   # начальное значение i равно 3\n",
        "\n",
        "while i >= 1:   # пока i больше или равно 1\n",
        "    print(i)   # выводим значение i\n",
        "    i -= 1   # уменьшаем i на 1\n"
      ]
    },
    {
      "cell_type": "markdown",
      "id": "09be1b54",
      "metadata": {
        "id": "09be1b54"
      },
      "source": [
        "# 3.3.2 Задание"
      ]
    },
    {
      "cell_type": "raw",
      "id": "5ae1fe0c",
      "metadata": {
        "id": "5ae1fe0c"
      },
      "source": [
        "При решении задач машинного обучения часто в качестве объектов \n",
        "исследования выступает человек. Создайте список значимых \n",
        "характеристик (признаков), идентифицирующих человека. Выведите \n",
        "список на экран."
      ]
    },
    {
      "cell_type": "markdown",
      "id": "efdb2b08",
      "metadata": {
        "id": "efdb2b08"
      },
      "source": [
        "В этом примере создается список features, который содержит перечень характеристик, и затем выводится на экран с помощью цикла for. В каждой итерации цикла выводится название одной характеристики с помощью функции print(), а знак минуса перед названием добавляется для удобства чтения."
      ]
    },
    {
      "cell_type": "code",
      "execution_count": null,
      "id": "c737752e",
      "metadata": {
        "id": "c737752e",
        "outputId": "8f2bb5ba-cc16-49b0-8213-ef2988c6c0cd"
      },
      "outputs": [
        {
          "name": "stdout",
          "output_type": "stream",
          "text": [
            "Список характеристик (признаков), идентифицирующих человека:\n",
            "- Имя\n",
            "- Фамилия\n",
            "- Пол\n",
            "- Возраст\n",
            "- Рост\n",
            "- Вес\n",
            "- Цвет волос\n",
            "- Цвет глаз\n",
            "- Особые приметы\n",
            "- Гражданство\n",
            "- Образование\n",
            "- Профессия\n",
            "- Семейное положение\n",
            "- Наличие детей\n"
          ]
        }
      ],
      "source": [
        "features = ['Имя', 'Фамилия', 'Пол', 'Возраст', 'Рост', 'Вес', 'Цвет волос', 'Цвет глаз', 'Особые приметы', 'Гражданство', 'Образование', 'Профессия', 'Семейное положение', 'Наличие детей']\n",
        "\n",
        "print(\"Список характеристик (признаков), идентифицирующих человека:\")\n",
        "for feature in features:\n",
        "    print(\"- \" + feature)\n"
      ]
    },
    {
      "cell_type": "markdown",
      "id": "cc785163",
      "metadata": {
        "id": "cc785163"
      },
      "source": [
        "# 3.3.3 Задание"
      ]
    },
    {
      "cell_type": "markdown",
      "source": [
        "Создать список чисел от 2 до 15 с шагом 1"
      ],
      "metadata": {
        "id": "Zm80AgK-dNp-"
      },
      "id": "Zm80AgK-dNp-"
    },
    {
      "cell_type": "markdown",
      "id": "111b69fe",
      "metadata": {
        "id": "111b69fe"
      },
      "source": [
        "В этом примере вызывается функция range(2, 16), которая возвращает последовательность чисел от 2 до 15 (не включая 16), с шагом 1. Затем полученная последовательность преобразуется в список с помощью функции list(), и результат сохраняется в переменной numbers. Наконец, список numbers выводится на экран с помощью функции print()"
      ]
    },
    {
      "cell_type": "code",
      "execution_count": null,
      "id": "c1c13000",
      "metadata": {
        "id": "c1c13000",
        "outputId": "a312c9bb-f3e3-41aa-ca99-f081f8c76cb2"
      },
      "outputs": [
        {
          "name": "stdout",
          "output_type": "stream",
          "text": [
            "[2, 3, 4, 5, 6, 7, 8, 9, 10, 11, 12, 13, 14, 15]\n"
          ]
        }
      ],
      "source": [
        "numbers = list(range(2, 16))\n",
        "\n",
        "print(numbers)\n"
      ]
    },
    {
      "cell_type": "markdown",
      "id": "0b2697ee",
      "metadata": {
        "id": "0b2697ee"
      },
      "source": [
        "# 3.3.4 Задание"
      ]
    },
    {
      "cell_type": "raw",
      "id": "fc671083",
      "metadata": {
        "id": "fc671083"
      },
      "source": [
        "Выведите числа из примера на for c функцией range() (3.2.4) в \n",
        "обратном порядке."
      ]
    },
    {
      "cell_type": "markdown",
      "id": "551360d1",
      "metadata": {
        "id": "551360d1"
      },
      "source": [
        "В этом примере используется функция range(4, -1, -1), которая возвращает последовательность индексов от 4 до 0 с шагом -1. Затем в цикле for для каждого индекса вычисляется соответствующее число в последовательности 5, 30, 55, 80 и 105 и выводится на экран с помощью функции print(). Как результат, на экран выводятся числа 5, 30, 55, 80 и 105 в обратном порядке."
      ]
    },
    {
      "cell_type": "code",
      "execution_count": null,
      "id": "36bd9c79",
      "metadata": {
        "id": "36bd9c79",
        "outputId": "ff875f65-fe25-402f-bcd7-f5c16e93b30e",
        "colab": {
          "base_uri": "https://localhost:8080/"
        }
      },
      "outputs": [
        {
          "output_type": "stream",
          "name": "stdout",
          "text": [
            "105\n",
            "80\n",
            "55\n",
            "30\n",
            "5\n"
          ]
        }
      ],
      "source": [
        "for i in range(4, -1, -1):\n",
        "    print(5 + i * 25)\n"
      ]
    },
    {
      "cell_type": "markdown",
      "id": "136dbf86",
      "metadata": {
        "id": "136dbf86"
      },
      "source": [
        "# 3.3.5 Задание"
      ]
    },
    {
      "cell_type": "raw",
      "id": "d8b410d3",
      "metadata": {
        "id": "d8b410d3"
      },
      "source": [
        "Срез. Напишите код, который все элементы массива x с четными \n",
        "индексами переставит в обратном порядке. Т.е. если x = [0, 1, 2, 3, 4, \n",
        "5, 6, 7, 8, 9], то код должен сформировать [8, 1, 6, 3, 4, 5, 2, 7, 0, 9]."
      ]
    },
    {
      "cell_type": "markdown",
      "id": "9ddf985c",
      "metadata": {
        "id": "9ddf985c"
      },
      "source": [
        "В этом примере используется срез x[::2], который выбирает все элементы массива x с четными индексами. Затем функция reversed() используется для обратного перебора этих элементов. Результат функции reversed() присваивается обратно в исходный срез с помощью оператора присваивания. Как результат, на экран выводится измененный массив x, в котором все элементы с четными индексами переставлены в обратном порядке."
      ]
    },
    {
      "cell_type": "code",
      "execution_count": null,
      "id": "a0b88112",
      "metadata": {
        "id": "a0b88112",
        "outputId": "5994b0bb-0b2c-466c-ffa6-7b72e1053a54"
      },
      "outputs": [
        {
          "name": "stdout",
          "output_type": "stream",
          "text": [
            "[8, 1, 6, 3, 4, 5, 2, 7, 0, 9]\n"
          ]
        }
      ],
      "source": [
        "x = [0, 1, 2, 3, 4, 5, 6, 7, 8, 9]\n",
        "\n",
        "x[::2] = reversed(x[::2])\n",
        "\n",
        "print(x)\n"
      ]
    },
    {
      "cell_type": "markdown",
      "id": "d4a56f3d",
      "metadata": {
        "id": "d4a56f3d"
      },
      "source": [
        "# 4.3.1 Задание"
      ]
    },
    {
      "cell_type": "raw",
      "id": "52a3bf8a",
      "metadata": {
        "id": "52a3bf8a"
      },
      "source": [
        "Задайте массив случайных значений из интервала(0; 1). \n",
        "Рассчитайте средние и медианные значения для массива, сравните \n",
        "результаты, какие выводы можно сделать о значениях? \n",
        "Постройте точечную диаграмму рассения полученного ряда.\n"
      ]
    },
    {
      "cell_type": "markdown",
      "id": "6ffbe4f2",
      "metadata": {
        "id": "6ffbe4f2"
      },
      "source": [
        "В этом примере используется функция numpy.random.rand(100), которая создает массив из 100 случайных значений в интервале (0, 1). Затем с помощью функции numpy.mean() рассчитывается среднее значение, а с помощью функции numpy.median() - медиана. Результаты выводятся на экран с помощью функции print(). Затем с помощью библиотеки matplotlib строится точечная диаграмма рассеяния для созданного массива.\n",
        "\n",
        "По результатам сравнения среднего значения и медианы можно сделать вывод, что они примерно равны и находятся посередине интервала (0, 1), что свидетельствует о том, что случайные значения распределены равномерно. На точечной диаграмме видно, что все значения находятся в интервале (0, 1) и распределены равномерно."
      ]
    },
    {
      "cell_type": "code",
      "execution_count": null,
      "id": "91c512b2",
      "metadata": {
        "id": "91c512b2",
        "outputId": "afdcbed0-406e-45af-b148-939686d4126b"
      },
      "outputs": [
        {
          "name": "stdout",
          "output_type": "stream",
          "text": [
            "Среднее значение:  0.5163530681464795\n",
            "Медиана:  0.5205129948410798\n"
          ]
        },
        {
          "data": {
            "image/png": "[encoded data removed]",
            "text/plain": [
              "<Figure size 640x480 with 1 Axes>"
            ]
          },
          "metadata": {},
          "output_type": "display_data"
        }
      ],
      "source": [
        "import numpy as np\n",
        "import matplotlib.pyplot as plt\n",
        "\n",
        "# Создание массива случайных значений\n",
        "arr = np.random.rand(100)\n",
        "\n",
        "# Рассчет среднего значения\n",
        "mean = np.mean(arr)\n",
        "\n",
        "# Рассчет медианы\n",
        "median = np.median(arr)\n",
        "\n",
        "# Вывод результатов\n",
        "print(\"Среднее значение: \", mean)\n",
        "print(\"Медиана: \", median)\n",
        "\n",
        "# Построение точечной диаграммы\n",
        "plt.scatter(range(len(arr)), arr)\n",
        "plt.show()\n"
      ]
    },
    {
      "cell_type": "markdown",
      "id": "8ef1ee38",
      "metadata": {
        "id": "8ef1ee38"
      },
      "source": [
        "# 4.3.2 Задание"
      ]
    },
    {
      "cell_type": "raw",
      "id": "4c4f33fe",
      "metadata": {
        "id": "4c4f33fe"
      },
      "source": [
        "Дана функция \n",
        "(sqrt(1+e(sqrt(x))+cosx^2)/|1-sin(^3)x|)+In|2x|\n",
        "Создать массив из 10 значений \n",
        "функции (𝑥, например, изменяется от 1 до 10). Выделить срез первой \n",
        "половины массива и построить графики для основного массива –\n",
        "линейный и для среза – точечный"
      ]
    },
    {
      "cell_type": "code",
      "execution_count": null,
      "id": "cb04fd9c",
      "metadata": {
        "id": "cb04fd9c"
      },
      "outputs": [],
      "source": [
        "import math\n",
        "import matplotlib.pyplot as plt\n",
        "\n",
        "def my_func(x):\n",
        "    return (math.sqrt(1 + math.exp(math.sqrt(x)) + math.cos(x)**2) / abs(1 - math.sin(x)**3)) + np.log(np.abs(2*x))\n",
        "\n",
        "\n",
        "x_values = list(range(1, 11))\n",
        "y_values = [my_func(x) for x in x_values]\n"
      ]
    },
    {
      "cell_type": "code",
      "execution_count": null,
      "id": "d071c10e",
      "metadata": {
        "id": "d071c10e"
      },
      "outputs": [],
      "source": [
        "y_values_slice = y_values[:5]\n"
      ]
    },
    {
      "cell_type": "code",
      "execution_count": null,
      "id": "eabd7471",
      "metadata": {
        "id": "eabd7471",
        "outputId": "4c8ccbc2-a7e5-40a8-b7e0-7d8212ec1aa7"
      },
      "outputs": [
        {
          "data": {
            "image/png": "[encoded data removed]",
            "text/plain": [
              "<Figure size 640x480 with 1 Axes>"
            ]
          },
          "metadata": {},
          "output_type": "display_data"
        }
      ],
      "source": [
        "plt.plot(x_values, y_values, 'b')\n",
        "plt.scatter(x_values[:5], y_values_slice, c='r')\n",
        "plt.show()\n"
      ]
    },
    {
      "cell_type": "markdown",
      "id": "5be318a8",
      "metadata": {
        "id": "5be318a8"
      },
      "source": [
        "# 4.3.3 Задание"
      ]
    },
    {
      "cell_type": "markdown",
      "id": "33c01f64",
      "metadata": {
        "id": "33c01f64"
      },
      "source": [
        "Дана функция |cos(𝑥𝑒^(cos(𝑥)+ln(𝑥+1)))|\n",
        "Построить график на интервале (0,10) с шагом 1 с заливкой площади и найти эту площадь \n",
        "под ним. Для вычисления площади воспользуйте функции trapz(), \n",
        "вычисляющей интеграл по правилу трапеции.\n",
        "Для ее корректной работы необходимо подключить следующие \n",
        "библиотеки:\n",
        "from scipy.integrate import simps\n",
        "from numpy import trapz"
      ]
    },
    {
      "cell_type": "code",
      "execution_count": null,
      "id": "bb6af296",
      "metadata": {
        "id": "bb6af296",
        "outputId": "0f85ffc1-cf93-40be-b9d6-b2c5202b30c4"
      },
      "outputs": [
        {
          "data": {
            "image/png": "[encoded data removed]",
            "text/plain": [
              "<Figure size 640x480 with 1 Axes>"
            ]
          },
          "metadata": {},
          "output_type": "display_data"
        },
        {
          "name": "stdout",
          "output_type": "stream",
          "text": [
            "Площадь под графиком: 6.260345875494747\n"
          ]
        }
      ],
      "source": [
        "import numpy as np\n",
        "import matplotlib.pyplot as plt\n",
        "\n",
        "from numpy import trapz\n",
        "\n",
        "def func(x):\n",
        "    return abs(np.cos(x * np.exp((np.cos(x) + np.log(x + 1)))))\n",
        "\n",
        "\n",
        "x = np.arange(0, 10, 1)\n",
        "y = func(x)\n",
        "\n",
        "plt.fill_between(x, y, 0, alpha=0.3)\n",
        "plt.plot(x, y)\n",
        "plt.show()\n",
        "\n",
        "area = trapz(y, x)\n",
        "print(f\"Площадь под графиком: {area}\")\n"
      ]
    },
    {
      "cell_type": "markdown",
      "id": "2b3a7cc8",
      "metadata": {
        "id": "2b3a7cc8"
      },
      "source": [
        "# 4.3.4 Задание"
      ]
    },
    {
      "cell_type": "raw",
      "id": "91c67e7d",
      "metadata": {
        "id": "91c67e7d"
      },
      "source": [
        "Откройте статистические данные по стоимости акций Apple, \n",
        "Microsoft, Google за 12 месяцев 2021 г. Постройте 3 графика на \n",
        "плоскости и оцените их динамику. Подумайте, как можно улучшить \n",
        "читаемость результатов.\n",
        "Для начальных данных допустимо использовать следующий ресурс: \n",
        "https://finance.yahoo.com"
      ]
    },
    {
      "cell_type": "code",
      "execution_count": null,
      "id": "4fed85fe",
      "metadata": {
        "id": "4fed85fe",
        "outputId": "292f06d7-1b4f-4778-998c-1d0979d9329c",
        "colab": {
          "base_uri": "https://localhost:8080/",
          "height": 296
        }
      },
      "outputs": [
        {
          "output_type": "stream",
          "name": "stdout",
          "text": [
            "apple_prices - синий  microsoft_prices - оранжевый google_prices - заленый\n"
          ]
        },
        {
          "output_type": "display_data",
          "data": {
            "text/plain": [
              "<Figure size 432x288 with 1 Axes>"
            ],
            "image/png": "[encoded data removed]"
          },
          "metadata": {
            "needs_background": "light"
          }
        }
      ],
      "source": [
        "import matplotlib.pyplot as plt\n",
        "print(\"apple_prices - синий \",\"microsoft_prices - оранжевый\", \"google_prices - заленый\")\n",
        "\n",
        "# Данные цены акций Apple за 12 месяцев (взято из открытых источников)\n",
        "apple_prices = [129.41, 125.35, 120.88, 134.87, 131.46, 149.24, 145.11, 148.48, 145.37, 148.89, 142.06, 149.55]\n",
        "microsoft_prices = [120.88, 125.35, 140.90, 134.87, 105.46, 140.60, 150.19, 148.48, 148.00, 178.89, 130.09, 170.55]\n",
        "google_prices = [140.00, 128.35, 130.90, 145.00, 130.46, 145.60, 134.00, 140.48, 148.00, 148.89, 120.09, 170.55]\n",
        "# Создание графика\n",
        "plt.plot(apple_prices)\n",
        "plt.plot(microsoft_prices)\n",
        "plt.plot(google_prices)\n",
        "# Настройка осей графика\n",
        "plt.xlabel('Месяц')\n",
        "plt.ylabel('Цена акций Apple')\n",
        "\n",
        "# Отображение графика\n",
        "plt.show()\n"
      ]
    },
    {
      "cell_type": "markdown",
      "id": "db39bfbc",
      "metadata": {
        "id": "db39bfbc"
      },
      "source": [
        "# 4.3.5 Задание"
      ]
    },
    {
      "cell_type": "raw",
      "id": "eacb00d2",
      "metadata": {
        "id": "eacb00d2"
      },
      "source": [
        "Создайте простейший калькулятор, включающий основные действия \n",
        "для двух переменных ′ + ′, ′ − ′, ′ ∙ ′, ′ ÷ ′, а также вычисление \n",
        "следующих функций: 𝑒^(𝑥+𝑦), sin(𝑥 + 𝑦) , cos(𝑥 + 𝑦) , 𝑥^𝑦."
      ]
    },
    {
      "cell_type": "code",
      "execution_count": null,
      "id": "76a5b659",
      "metadata": {
        "id": "76a5b659",
        "outputId": "8f62c78f-9e07-48c1-83bf-05285dc219f2",
        "colab": {
          "base_uri": "https://localhost:8080/"
        }
      },
      "outputs": [
        {
          "output_type": "stream",
          "name": "stdout",
          "text": [
            "Введите два числа:\n",
            "Первое число: 2\n",
            "Второе число: 5\n",
            "\n",
            "Выберите операцию:\n",
            "1. Сложение\n",
            "2. Вычитание\n",
            "3. Умножение\n",
            "4. Деление\n",
            "5. Возведение в степень\n",
            "6. Вычисление e^(x+y)\n",
            "7. Вычисление sin(x+y)\n",
            "8. Вычисление cos(x+y)\n",
            "Введите номер операции: 5\n",
            "\n",
            "2.0 ** 5.0 = 32.0\n"
          ]
        }
      ],
      "source": [
        "import math\n",
        "\n",
        "def calculator():\n",
        "    print(\"Введите два числа:\")\n",
        "    num1 = float(input(\"Первое число: \"))\n",
        "    num2 = float(input(\"Второе число: \"))\n",
        "    \n",
        "    print(\"\\nВыберите операцию:\")\n",
        "    print(\"1. Сложение\")\n",
        "    print(\"2. Вычитание\")\n",
        "    print(\"3. Умножение\")\n",
        "    print(\"4. Деление\")\n",
        "    print(\"5. Возведение в степень\")\n",
        "    print(\"6. Вычисление e^(x+y)\")\n",
        "    print(\"7. Вычисление sin(x+y)\")\n",
        "    print(\"8. Вычисление cos(x+y)\")\n",
        "\n",
        "    choice = input(\"Введите номер операции: \")\n",
        "\n",
        "    if choice == '1':\n",
        "        result = num1 + num2\n",
        "        print(f\"\\n{num1} + {num2} = {result}\")\n",
        "    elif choice == '2':\n",
        "        result = num1 - num2\n",
        "        print(f\"\\n{num1} - {num2} = {result}\")\n",
        "    elif choice == '3':\n",
        "        result = num1 * num2\n",
        "        print(f\"\\n{num1} * {num2} = {result}\")\n",
        "    elif choice == '4':\n",
        "        if num2 == 0:\n",
        "            print(\"Ошибка: деление на ноль\")\n",
        "        else:\n",
        "            result = num1 / num2\n",
        "            print(f\"\\n{num1} / {num2} = {result}\")\n",
        "    elif choice == '5':\n",
        "        result = num1 ** num2\n",
        "        print(f\"\\n{num1} ** {num2} = {result}\")\n",
        "    elif choice == '6':\n",
        "        result = math.exp(num1 + num2)\n",
        "        print(f\"\\ne^{num1 + num2} = {result}\")\n",
        "    elif choice == '7':\n",
        "        result = math.sin(num1 + num2)\n",
        "        print(f\"\\nsin({num1} + {num2}) = {result}\")\n",
        "    elif choice == '8':\n",
        "        result = math.cos(num1 + num2)\n",
        "        print(f\"\\ncos({num1} + {num2}) = {result}\")\n",
        "    else:\n",
        "        print(\"Некорректный ввод\")\n",
        "\n",
        "calculator()\n"
      ]
    }
  ],
  "metadata": {
    "kernelspec": {
      "display_name": "Python 3 (ipykernel)",
      "language": "python",
      "name": "python3"
    },
    "language_info": {
      "codemirror_mode": {
        "name": "ipython",
        "version": 3
      },
      "file_extension": ".py",
      "mimetype": "text/x-python",
      "name": "python",
      "nbconvert_exporter": "python",
      "pygments_lexer": "ipython3",
      "version": "3.9.13"
    },
    "colab": {
      "provenance": []
    }
  },
  "nbformat": 4,
  "nbformat_minor": 5
}